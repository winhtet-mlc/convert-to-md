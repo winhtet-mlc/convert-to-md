{
 "cells": [
  {
   "cell_type": "markdown",
   "id": "338ba68d",
   "metadata": {},
   "source": [
    "# ご注文の用語集です！\n",
    "\n",
    "weight: 1\n",
    "<!--eofm-->"
   ]
  },
  {
   "cell_type": "markdown",
   "id": "d6119e79",
   "metadata": {},
   "source": [
    "* [用語集（あ行）](glossary-ja-a/)\n",
    "* [用語集（か行）](glossary-ja-ka/)\n",
    "* [用語集（さ行）](glossary-ja-sa/)\n",
    "* [用語集（た行）](glossary-ja-ta/)\n",
    "* [用語集（な行）](glossary-ja-na/)\n",
    "* [用語集（は行）](glossary-ja-ha/)\n",
    "* [用語集（ま行）](glossary-ja-ma/)\n",
    "* [用語集（や・ら・わ行）](glossary-ja-yarawa/)\n",
    "* [用語集（英字）](glossary-en)"
   ]
  }
 ],
 "metadata": {
  "kernelspec": {
   "display_name": "Python 3",
   "language": "python",
   "name": "python3"
  },
  "language_info": {
   "codemirror_mode": {
    "name": "ipython",
    "version": 3
   },
   "file_extension": ".py",
   "mimetype": "text/x-python",
   "name": "python",
   "nbconvert_exporter": "python",
   "pygments_lexer": "ipython3",
   "version": "3.8.3"
  }
 },
 "nbformat": 4,
 "nbformat_minor": 5
}
