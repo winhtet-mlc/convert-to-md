{
 "cells": [
  {
   "cell_type": "markdown",
   "metadata": {},
   "source": [
    "# 用語集（た行）\n",
    "\n",
    "weight: 5\n",
    "<!--eofm-->"
   ]
  },
  {
   "cell_type": "markdown",
   "metadata": {},
   "source": [
    "## た"
   ]
  },
  {
   "cell_type": "markdown",
   "metadata": {},
   "source": [
    "## ち"
   ]
  },
  {
   "cell_type": "markdown",
   "metadata": {},
   "source": [
    "### 中央値"
   ]
  },
  {
   "cell_type": "markdown",
   "metadata": {},
   "source": [
    "- 読み: ちゅうおうち\n",
    "- 英語での表現: median\n",
    "- Tags: 確率・統計"
   ]
  },
  {
   "cell_type": "markdown",
   "metadata": {},
   "source": [
    "確率分布やデータの特徴を表す指標の一つで、その値を境界に分布やデータが丁度半分ずつに分けられるような値のことを指す。確率変数 $X$ については、\n",
    "\n",
    "$$\n",
    "P ( X \\le m ) \\ge \\frac{1}{2} \\; \\text{and} \\; P ( X \\ge m ) \\ge \\frac{1}{2}\n",
    "$$\n",
    "\n",
    "をみたすような $m$ を $X$ の中央値という。データ $\\{ X_1, \\ldots, X_n \\}$ については、これらの値を小さい方から順に並べ替えた物を $\\{ X_{\\sigma(1)}, \\ldots, X_{\\sigma(n)} \\} \\; ( X_{\\sigma(1)} \\le \\ldots \\le X_{\\sigma(n)} )$ として\n",
    "\n",
    "$$\n",
    "X_\\text{med} = \\left\\{\n",
    "    \\begin{array}{cc}\n",
    "        \\frac{1}{2} X_{\\sigma(\\frac{n - 1}{2})} + \\frac{1}{2} X_{\\sigma(\\frac{n + 1}{2})} & ( n: \\text{odd} ) \\\\\n",
    "        X_{\\sigma(\\frac{n}{2})} & ( n: \\text{even} )\n",
    "    \\end{array}\n",
    "\\right.\n",
    "$$\n",
    "\n",
    "なる $X_\\text{med}$ をデータの中央値という。"
   ]
  },
  {
   "cell_type": "markdown",
   "metadata": {},
   "source": [
    "## つ"
   ]
  },
  {
   "cell_type": "markdown",
   "metadata": {},
   "source": [
    "## て"
   ]
  },
  {
   "cell_type": "markdown",
   "metadata": {},
   "source": [
    "## と"
   ]
  }
 ],
 "metadata": {
  "kernelspec": {
   "display_name": "Python 3",
   "language": "python",
   "name": "python3"
  },
  "language_info": {
   "codemirror_mode": {
    "name": "ipython",
    "version": 3
   },
   "file_extension": ".py",
   "mimetype": "text/x-python",
   "name": "python",
   "nbconvert_exporter": "python",
   "pygments_lexer": "ipython3",
   "version": "3.8.9"
  }
 },
 "nbformat": 4,
 "nbformat_minor": 4
}
