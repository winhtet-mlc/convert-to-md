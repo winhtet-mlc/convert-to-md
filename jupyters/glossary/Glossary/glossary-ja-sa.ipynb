{
 "cells": [
  {
   "cell_type": "markdown",
   "metadata": {},
   "source": [
    "# 用語集（さ行）\n",
    "\n",
    "weight: 4\n",
    "<!--eofm-->"
   ]
  },
  {
   "cell_type": "markdown",
   "metadata": {},
   "source": [
    "## さ"
   ]
  },
  {
   "cell_type": "markdown",
   "metadata": {},
   "source": [
    "### 最小値"
   ]
  },
  {
   "cell_type": "markdown",
   "metadata": {},
   "source": [
    "- 読み: さいしょうち\n",
    "- 英語での表現: minimum\n",
    "- Tags: 確率・統計"
   ]
  },
  {
   "cell_type": "markdown",
   "metadata": {},
   "source": [
    "データの特徴を表す指標の一つで、データ  $\\{ X_1, \\ldots, X_n \\}$ の中で最も小さい値\n",
    "\n",
    "$$\n",
    "\\min_{1 \\le i \\le n} X_i\n",
    "$$ \n",
    "\n",
    "のことを指す。"
   ]
  },
  {
   "cell_type": "markdown",
   "metadata": {},
   "source": [
    "### 最大値"
   ]
  },
  {
   "cell_type": "markdown",
   "metadata": {},
   "source": [
    "- 読み: さいだいち\n",
    "- 英語での表現: maximum\n",
    "- Tags: 確率・統計"
   ]
  },
  {
   "cell_type": "markdown",
   "metadata": {},
   "source": [
    "データの特徴を表す指標の一つで、データ  $\\{ X_1, \\ldots, X_n \\}$ の中で最も大きい値\n",
    "\n",
    "$$\n",
    "\\max_{1 \\le i \\le n} X_i\n",
    "$$ \n",
    "\n",
    "のことを指す。"
   ]
  },
  {
   "cell_type": "markdown",
   "metadata": {},
   "source": [
    "### 最頻値"
   ]
  },
  {
   "cell_type": "markdown",
   "metadata": {},
   "source": [
    "- 読み: さいひんち\n",
    "- 英語での表現: mode\n",
    "- Tags: 確率・統計"
   ]
  },
  {
   "cell_type": "markdown",
   "metadata": {},
   "source": [
    "確率分布やデータの特徴を表す指標の一つで、その分布やデータで最も多く出現する値のこと。確率変数 $X$ が連続分布に従う場合はその確率密度関数が、離散分布に従う場合はその確率質量関数がそれぞれ最大値を取る値を $X$ の最頻値という。データ $\\{ X_1, \\ldots, X_n \\}$ については、その中で最も多く出現する値（複数ある場合がある）をそのデータの最頻値という。"
   ]
  },
  {
   "cell_type": "markdown",
   "metadata": {},
   "source": [
    "## し"
   ]
  },
  {
   "cell_type": "markdown",
   "metadata": {},
   "source": [
    "### 順位相関係数"
   ]
  },
  {
   "cell_type": "markdown",
   "metadata": {},
   "source": [
    "- 読み: じゅんいそうかんけいすう\n",
    "- 英語での表現: rank correlation coefficient\n",
    "- Tags: 確率・統計"
   ]
  },
  {
   "cell_type": "markdown",
   "metadata": {},
   "source": [
    "データの特徴を表す指標の一つで、複数のカラムの値が順位の意味でどのようにばらつくかの傾向を示すもの。Spearmanの順位相関係数 (Spearman rank correlation coefficient, Spearman's rho) とKendallの順位相関係数（Kendall rank correlation coefficient, Kendall's tau) の2つがよく用いられる。以下ではSpearmanの順位相関係数について述べる。\n",
    "\n",
    "データ $\\{ ( X_1, Y_1 ), \\ldots, ( X_n, Y_n ) \\}$ について、それぞれの $\\{ X_i \\}, \\{ Y_i \\}$ 内での順位を $\\{ ( R_1, Q_1 ), \\ldots, ( R_n, Q_n ) \\}$ とする。ただし、複数の値が同順になる場合はそれらの値に全て対応する中間の順位を割り振る（例えば $X_1, \\ldots, X_4$ が全て「3位タイ」であるとき、 $Q_1 = \\cdots = Q_4 = \\frac{3 + 4 + 5 + 6}{4} = 4.5$ とする）。このとき、Spearmanの順位相関係数を\n",
    "\n",
    "$$\n",
    "r_S = \\frac{\\sum_{i = 1}^n (R_i - \\bar{R} ) ( Q_i - \\bar{Q} )}{\\sqrt{\\sum_{i = 1}^n ( R_i - \\bar{R} ) ^2} \\sqrt{\\sum_{i = 1}^n ( Q_i - \\bar{Q} ) ^2}}\n",
    "$$\n",
    "\n",
    "で定める。ここで $\\bar{R}, \\bar{Q}$ はそれぞれ $\\{ R_i \\}, \\{ Q_i \\}$ の標本平均とする。これは標本の順位 $\\{ (R_i, Q_i) \\}$ についての[Pearsonの積率相関係数](#相関係数)であるが、 $\\{ (X_i, Y_i) \\}$ に対する通常の（Pearsonの）相関係数が両者の線形の関係しか捉えられないのに対し、（Spearmanの）順位相関係数は両者の単調な関係を捉えることができる。なお、標本の中に同順の値が存在しないときは\n",
    "\n",
    "$$\n",
    "r_S = 1 - \\frac{6 \\sum_{i = 1}^n ( R_i - Q_i ) ^2}{n ( n^2 - 1 )}\n",
    "$$\n",
    "\n",
    "と簡単に計算できる。\n",
    "\n"
   ]
  },
  {
   "cell_type": "markdown",
   "metadata": {},
   "source": [
    "関連項目\n",
    "\n",
    "- [相関係数](#相関係数): Pearsonの積率相関係数"
   ]
  },
  {
   "cell_type": "markdown",
   "metadata": {},
   "source": [
    "## す"
   ]
  },
  {
   "cell_type": "markdown",
   "metadata": {},
   "source": [
    "## せ"
   ]
  },
  {
   "cell_type": "markdown",
   "metadata": {},
   "source": [
    "### 尖度"
   ]
  },
  {
   "cell_type": "markdown",
   "metadata": {},
   "source": [
    "- 読み: せんど\n",
    "- 英語での表現: kurtosis\n",
    "- Tags: 確率・統計"
   ]
  },
  {
   "cell_type": "markdown",
   "metadata": {},
   "source": [
    "確率分布やデータの特徴を表す指標の一つで、[平均](../glossary-ja-ha/#平均)を中心とした分布の尖り具合の程度を示すもの。確率変数 $X$ の平均を $\\mu$、[標準偏差](../glossary-ja-ha/#標準偏差)を $\\sigma$ としたとき、 $X$ の尖度を\n",
    "\n",
    "$$\n",
    "\\mathrm{Kurt} [ X ] = \\frac{\\mathrm{E} [ ( X - \\mu ) ^4 ]}{\\sigma^4}\n",
    "$$\n",
    "\n",
    "で定める。この定義において正規分布の尖度は3であり、尖度が3より小さい値を取る場合は正規分布より尖っていない（裾の重い）、逆に3より大きい値を取る場合は正規分布より尖っている（裾の軽い）分布であるとそれぞれ考えられる。このため\n",
    "\n",
    "$$\n",
    "\\mathrm{Kurt} [ X ] - 3 = \\frac{\\mathrm{E} [ ( X - \\mu ) ^4 ]}{\\sigma^4} - 3\n",
    "$$ \n",
    "\n",
    "は過剰尖度 (excess kurtosis) と呼ばれ、またこの値を尖度と定義する場合もある。データ $\\{ X_1, \\ldots, X_n \\}$ の平均を $\\bar{X}$、[不偏分散](../glossary-ja-ha/#分散)を $s^2$ とすると、データの過剰尖度はモーメントの推定値から\n",
    "\n",
    "$$\n",
    "\\gamma_2 = \\frac{\\frac{1}{n} \\sum_{i=1}^n ( X_i - \\bar{X} ) ^4}{s^4} - 3\n",
    "$$\n",
    "\n",
    "や、キュムラントの推定値から\n",
    "\n",
    "$$\n",
    "G_2 = \\frac{( n - 1 ) ( n + 1 )}{( n - 2 ) ( n - 3 )} \\frac{\\frac{1}{n} \\sum_{i=1}^n ( X_i - \\bar{X} ) ^4}{\\left( \\frac{1}{n} \\sum_{i=1}^n ( X_i - \\bar{X} ) ^2 \\right) ^2} - \\frac{3 ( n - 1 ) ^2}{( n - 2 ) ( n - 3 )}\n",
    "$$\n",
    "\n",
    "とそれぞれ計算される。"
   ]
  },
  {
   "cell_type": "markdown",
   "metadata": {},
   "source": [
    "## そ"
   ]
  },
  {
   "cell_type": "markdown",
   "metadata": {},
   "source": [
    "### 相関係数"
   ]
  },
  {
   "cell_type": "markdown",
   "metadata": {},
   "source": [
    "- 読み: そうかんけいすう\n",
    "- 英語での表現: correlation coefficient\n",
    "- Tags: 確率・統計"
   ]
  },
  {
   "cell_type": "markdown",
   "metadata": {},
   "source": [
    "確率分布やデータの特徴を表す指標の一つで、複数の確率変数やカラムの値がどのようにばらつくかの傾向を示すもの。いくつかの定義があるが、一般にはPearsonの積率相関係数 (Pearson correlation coefficient) のことを指す。確率変数 $X, Y$ の[標準偏差](../glossary-ja-ha/#標準偏差)をそれぞれ $\\sigma_X, \\sigma_Y$、[共分散](../glossary-ja-ka/#共分散)を $\\mathrm{Cov} ( X, Y )$ としたとき、 $X, Y$ の相関係数を\n",
    "\n",
    "$$\n",
    "\\rho_{X Y} = \\frac{\\mathrm{Cov} ( X , Y )}{\\sigma_X \\sigma_Y}\n",
    "$$\n",
    "\n",
    "で定める。相関係数 $\\rho_{X Y}$ は $-1 \\le \\rho_{X Y} \\le 1$ をみたす。相関係数の値に対する解釈は\n",
    "\n",
    "- $\\rho_{X Y}$ が正の値をとるとき、 $X$ の値が増加すると対応する $Y$ の値も増加する傾向にある\n",
    "- $\\rho_{X Y}$ が負の値をとるとき、 $X$ の値が増加すると対応する $Y$ の値は減少する傾向にある\n",
    "- $| \\rho_{X Y} |$ の値が $1$ に近い程、 $( X, Y )$ の組は直線状に分布する傾向にある\n",
    "\n",
    "などがある。データ $\\{ ( X_1, Y_1 ), \\ldots, ( X_n, Y_n ) \\}$ について、 $\\{ X_i \\}, \\{ Y_i \\}$ の[標本平均](../glossary-ja-ha/#平均)をそれぞれ $\\bar{X}, \\bar{Y}$ 、（不偏）標本標準偏差をそれぞれ $s_X, s_Y$ 、（不偏）標本共分散を $s_{X Y}$ としたとき、このデータの標本相関係数 (sample correlation coefficient) を\n",
    "\n",
    "$$\n",
    "r_{X Y} = \\frac{s_{X Y}}{s_X s_Y} = \\frac{\\sum_{i = 1}^n ( X_i - \\bar{X} ) ( Y_i - \\bar{Y} )}{\\sqrt{\\sum_{i = 1}^n ( X_i - \\bar{X} ) ^2} \\sqrt{\\sum_{i = 1}^n ( Y_i - \\bar{Y} ) ^2}}\n",
    "$$\n",
    "\n",
    "で定める。なお、これはデータの従う確率分布の相関係数の不偏推定量にはなっていない。\n"
   ]
  },
  {
   "cell_type": "markdown",
   "metadata": {},
   "source": [
    "関連項目\n",
    "\n",
    "- [順位相関係数](#順位相関係数)"
   ]
  }
 ],
 "metadata": {
  "kernelspec": {
   "display_name": "Python 3",
   "language": "python",
   "name": "python3"
  },
  "language_info": {
   "codemirror_mode": {
    "name": "ipython",
    "version": 3
   },
   "file_extension": ".py",
   "mimetype": "text/x-python",
   "name": "python",
   "nbconvert_exporter": "python",
   "pygments_lexer": "ipython3",
   "version": "3.8.3"
  }
 },
 "nbformat": 4,
 "nbformat_minor": 4
}
