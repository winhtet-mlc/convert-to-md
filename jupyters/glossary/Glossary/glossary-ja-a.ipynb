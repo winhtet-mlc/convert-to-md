{
 "cells": [
  {
   "cell_type": "markdown",
   "metadata": {},
   "source": [
    "# 用語集（あ行）\n",
    "\n",
    "weight: 2\n",
    "<!--eofm-->"
   ]
  },
  {
   "cell_type": "markdown",
   "metadata": {},
   "source": [
    "## あ"
   ]
  },
  {
   "cell_type": "markdown",
   "metadata": {},
   "source": [
    "## い"
   ]
  },
  {
   "cell_type": "markdown",
   "metadata": {},
   "source": [
    "## う"
   ]
  },
  {
   "cell_type": "markdown",
   "metadata": {},
   "source": [
    "## え"
   ]
  },
  {
   "cell_type": "markdown",
   "metadata": {},
   "source": [
    "## お"
   ]
  }
 ],
 "metadata": {
  "kernelspec": {
   "display_name": "Python 3",
   "language": "python",
   "name": "python3"
  },
  "language_info": {
   "codemirror_mode": {
    "name": "ipython",
    "version": 3
   },
   "file_extension": ".py",
   "mimetype": "text/x-python",
   "name": "python",
   "nbconvert_exporter": "python",
   "pygments_lexer": "ipython3",
   "version": "3.8.9"
  }
 },
 "nbformat": 4,
 "nbformat_minor": 4
}
