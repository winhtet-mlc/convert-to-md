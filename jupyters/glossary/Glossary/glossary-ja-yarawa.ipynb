{
 "cells": [
  {
   "cell_type": "markdown",
   "metadata": {},
   "source": [
    "# 用語集（や・ら・わ行）\n",
    "\n",
    "weight: 9\n",
    "<!--eofm-->"
   ]
  },
  {
   "cell_type": "markdown",
   "metadata": {},
   "source": [
    "## や"
   ]
  },
  {
   "cell_type": "markdown",
   "metadata": {},
   "source": [
    "## ゆ"
   ]
  },
  {
   "cell_type": "markdown",
   "metadata": {},
   "source": [
    "## よ"
   ]
  },
  {
   "cell_type": "markdown",
   "metadata": {},
   "source": [
    "## ら"
   ]
  },
  {
   "cell_type": "markdown",
   "metadata": {},
   "source": [
    "## り"
   ]
  },
  {
   "cell_type": "markdown",
   "metadata": {},
   "source": [
    "## る"
   ]
  },
  {
   "cell_type": "markdown",
   "metadata": {},
   "source": [
    "## れ"
   ]
  },
  {
   "cell_type": "markdown",
   "metadata": {},
   "source": [
    "## ろ"
   ]
  },
  {
   "cell_type": "markdown",
   "metadata": {},
   "source": [
    "## わ"
   ]
  },
  {
   "cell_type": "markdown",
   "metadata": {},
   "source": [
    "### 歪度"
   ]
  },
  {
   "cell_type": "markdown",
   "metadata": {},
   "source": [
    "- 読み: わいど\n",
    "- 英語での表現: skewness\n",
    "- Tags: 確率・統計"
   ]
  },
  {
   "cell_type": "markdown",
   "metadata": {},
   "source": [
    "確率分布やデータの特徴を表す指標の一つで、[平均](../glossary-ja-ha#平均)を中心とした分布の非対称性の程度を示すもの。確率変数 $X$ の平均を $\\mu$、[標準偏差](../glossary-ja-ha#標準偏差)を $\\sigma$ としたとき、 $X$ の歪度を\n",
    "\n",
    "$$\n",
    "\\mathrm{Skew} [ X ] = \\frac{\\mathrm{E} [ ( X - \\mu ) ^3 ]}{\\sigma^3}\n",
    "$$\n",
    "\n",
    "で定める。歪度が負の値を取る場合は分布が実軸上で平均より小さい向きに、逆に正の値を取る場合は平均より大きい向きにそれぞれ偏っていると考えられる。データ $\\{ X_1, \\ldots, X_n \\}$ の平均を $\\bar{X}$、[不偏分散](../glossary-ja-ha#分散)を $s^2$ とすると、データの歪度はモーメントの推定値から\n",
    "\n",
    "$$\n",
    "\\gamma_1 = \\frac{\\frac{1}{n} \\sum_{i=1}^n ( X_i - \\bar{X} ) ^3}{s^3}\n",
    "$$\n",
    "\n",
    "や、キュムラントの推定値から\n",
    "\n",
    "$$\n",
    "G_1 = \\frac{\\sqrt{n ( n - 1 )}}{n - 2} \\frac{\\frac{1}{n} \\sum_{i=1}^n ( X_i - \\bar{X} ) ^3}{\\left( \\frac{1}{n} \\sum_{i=1}^n ( X_i - \\bar{X} ) ^2 \\right) ^\\frac{3}{2}}\n",
    "$$\n",
    "\n",
    "とそれぞれ計算される。"
   ]
  }
 ],
 "metadata": {
  "kernelspec": {
   "display_name": "Python 3",
   "language": "python",
   "name": "python3"
  },
  "language_info": {
   "codemirror_mode": {
    "name": "ipython",
    "version": 3
   },
   "file_extension": ".py",
   "mimetype": "text/x-python",
   "name": "python",
   "nbconvert_exporter": "python",
   "pygments_lexer": "ipython3",
   "version": "3.8.3"
  }
 },
 "nbformat": 4,
 "nbformat_minor": 4
}
