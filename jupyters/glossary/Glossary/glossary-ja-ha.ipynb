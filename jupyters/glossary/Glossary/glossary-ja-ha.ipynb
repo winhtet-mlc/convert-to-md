{
 "cells": [
  {
   "cell_type": "markdown",
   "metadata": {},
   "source": [
    "# 用語集（は行）\n",
    "\n",
    "weight: 7\n",
    "<!--eofm-->"
   ]
  },
  {
   "cell_type": "markdown",
   "metadata": {},
   "source": [
    "## は"
   ]
  },
  {
   "cell_type": "markdown",
   "metadata": {},
   "source": [
    "## ひ"
   ]
  },
  {
   "cell_type": "markdown",
   "metadata": {},
   "source": [
    "### 標準偏差"
   ]
  },
  {
   "cell_type": "markdown",
   "metadata": {},
   "source": [
    "- 読み: ひょうじゅんへんさ\n",
    "- 英語での表現: standard deviation\n",
    "- Tags: 確率・統計"
   ]
  },
  {
   "cell_type": "markdown",
   "metadata": {},
   "source": [
    "確率分布やデータの特徴を表す指標の一つで、[平均](#平均)からの分布やデータのばらつきの程度を示すもの。確率変数 $X$ の[分散](#分散)を $\\sigma^2$ としたとき、 $X$ の標準偏差を\n",
    "\n",
    "$$\n",
    "\\sigma = \\sqrt{\\sigma^2}\n",
    "$$\n",
    "\n",
    "で定める。データ $\\{ X_1, \\ldots, X_n \\}$ の標本分散に関連する用語には揺れがあるが、データの[不偏分散](#分散)を $s^2$ としたとき、その平方根\n",
    "\n",
    "$$\n",
    "s = \\sqrt{s^2}\n",
    "$$\n",
    "\n",
    "をデータの標本標準偏差 (sample standard deviation) と呼ぶことが多い。一般に、標本標準偏差はデータの従う確率分布の標準偏差の不偏推定量ではない。"
   ]
  },
  {
   "cell_type": "markdown",
   "metadata": {},
   "source": [
    "## ふ"
   ]
  },
  {
   "cell_type": "markdown",
   "metadata": {},
   "source": [
    "### 分位点"
   ]
  },
  {
   "cell_type": "markdown",
   "metadata": {},
   "source": [
    "- 読み: ぶんいてん\n",
    "- 英語での表現: quantile\n",
    "- Tags: 確率・統計"
   ]
  },
  {
   "cell_type": "markdown",
   "metadata": {},
   "source": [
    "確率分布やデータの特徴を表す指標の一つで、その値を境界に分布やデータが丁度 $q : ( 1 - q )$ に分けられるような値のことを指す。確率変数 $X$ については、\n",
    "\n",
    "$$\n",
    "P ( X \\le Q_q ) \\ge q \\; \\text{and} \\; P ( X \\ge Q_q ) \\ge 1 - q\n",
    "$$\n",
    "\n",
    "をみたすような $Q_q$ を $X$ の $q$-分位点という。[中央値](../glossary-ja-ta#中央値)は $0.5$-分位点である。また、 $0.25$-分位点を第1四分位点、 $0.75$-分位点を第3四分位点といい、 $q$-分位点のことを $100 q$-パーセント点 (percentile) ともいう。データ $\\{ X_1, \\ldots, X_n \\}$ については、これらの値を小さい方から順に並べ替えた物を $\\{ X_{\\sigma(1)}, \\ldots, X_{\\sigma(n)} \\} \\; ( X_{\\sigma(1)} \\le \\ldots \\le X_{\\sigma(n)} )$ として、 $t_q = 1 - q + q n$ について\n",
    "\n",
    "$$\n",
    "Q_q = \\left\\{\n",
    "    \\begin{array}{cc}\n",
    "        ( \\lceil t_q \\rceil - t_q ) X_{\\sigma(\\lfloor t_q \\rfloor)} + ( t_q - \\lfloor t_q \\rfloor ) X_{\\sigma(\\lceil t_q \\rceil)} & ( t_q \\notin \\mathbf{Z} ) \\\\\n",
    "        X_{\\sigma(t_q)} & ( t_q \\in \\mathbf{Z} )\n",
    "    \\end{array}\n",
    "\\right.\n",
    "$$\n",
    "\n",
    "なる $Q_q$ をデータの $q$-分位点という。データの第1四分位点、第3四分位点、パーセント点等についても同様に定める。"
   ]
  },
  {
   "cell_type": "markdown",
   "metadata": {},
   "source": [
    "### 分散"
   ]
  },
  {
   "cell_type": "markdown",
   "metadata": {},
   "source": [
    "- 読み: ぶんさん\n",
    "- 英語での表現: variance\n",
    "- Tags: 確率・統計"
   ]
  },
  {
   "cell_type": "markdown",
   "metadata": {},
   "source": [
    "確率分布やデータの特徴を表す指標の一つで、[平均](#平均)からの分布やデータのばらつきの程度を示すもの。確率変数 $X$ の平均を $\\mu$ としたとき、 $X$ の分散を\n",
    "\n",
    "$$\n",
    "\\sigma^2 = \\mathrm{V} [ X ] = \\mathrm{E} [ ( X - \\mu ) ^2 ]\n",
    "$$\n",
    "\n",
    "で定める。データ $\\{ X_1, \\ldots, X_n \\}$ の平均を $\\bar{X}$ としたとき、このデータの標本分散 (sample variance) を\n",
    "\n",
    "$$\n",
    "\\hat{\\sigma}^2 = \\frac{1}{n} \\sum_{i=1}^n ( X_i - \\bar{X} ) ^2\n",
    "$$\n",
    "\n",
    "で、不偏分散 (unbiased variance) を\n",
    "\n",
    "$$\n",
    "s^2 = \\frac{1}{n - 1} \\sum_{i=1}^n ( X_i - \\bar{X} ) ^2 = \\frac{n}{n - 1} \\hat{\\sigma}^2\n",
    "$$\n",
    "\n",
    "でそれぞれ定める。データが独立同分布のとき、不偏分散はその確率分布の分散（存在すれば）の不偏推定量になっている。"
   ]
  },
  {
   "cell_type": "markdown",
   "metadata": {},
   "source": [
    "## へ"
   ]
  },
  {
   "cell_type": "markdown",
   "metadata": {},
   "source": [
    "### 平均"
   ]
  },
  {
   "cell_type": "markdown",
   "metadata": {},
   "source": [
    "- 読み: へいきん\n",
    "- 英語での表現: mean\n",
    "- Tags: 確率・統計"
   ]
  },
  {
   "cell_type": "markdown",
   "metadata": {},
   "source": [
    "確率分布やデータの特徴を表す指標の一つで、算術平均の意味でデータの中間的な値を示すもの。一般に、確率変数 $X$ の平均（推測統計における母平均 (population mean) に相当）はその期待値\n",
    "\n",
    "$$\n",
    "\\mu = \\mathrm{E} [ X ]\n",
    "$$\n",
    "\n",
    "で、データ $\\{ X_1, \\ldots, X_n \\}$ の平均（推測統計における標本平均 (sample mean) に相当）はその算術平均\n",
    "\n",
    "$$\n",
    "\\bar{X} = \\frac{1}{n} \\sum_{i=1}^n X_i\n",
    "$$\n",
    "\n",
    "でそれぞれ定める。データが独立同分布のとき、平均はその確率分布の平均（存在すれば）の不偏推定量になっている。"
   ]
  },
  {
   "cell_type": "markdown",
   "metadata": {},
   "source": [
    "## ほ"
   ]
  }
 ],
 "metadata": {
  "kernelspec": {
   "display_name": "Python 3",
   "language": "python",
   "name": "python3"
  },
  "language_info": {
   "codemirror_mode": {
    "name": "ipython",
    "version": 3
   },
   "file_extension": ".py",
   "mimetype": "text/x-python",
   "name": "python",
   "nbconvert_exporter": "python",
   "pygments_lexer": "ipython3",
   "version": "3.8.3"
  }
 },
 "nbformat": 4,
 "nbformat_minor": 4
}
