{
 "cells": [
  {
   "cell_type": "markdown",
   "metadata": {},
   "source": [
    "# 用語集（か行）\n",
    "\n",
    "weight: 3\n",
    "<!--eofm-->"
   ]
  },
  {
   "cell_type": "markdown",
   "metadata": {},
   "source": [
    "## か"
   ]
  },
  {
   "cell_type": "markdown",
   "metadata": {},
   "source": [
    "## き"
   ]
  },
  {
   "cell_type": "markdown",
   "metadata": {},
   "source": [
    "### 共分散"
   ]
  },
  {
   "cell_type": "markdown",
   "metadata": {},
   "source": [
    "- 読み: きょうぶんさん\n",
    "- 英語での表現: covariance\n",
    "- Tags: 確率・統計"
   ]
  },
  {
   "cell_type": "markdown",
   "metadata": {},
   "source": [
    "確率分布やデータの特徴を表す指標の一つで、[平均](../glossary-ja-ha#平均)を中心として複数の確率変数やカラムの値がどのようにばらつくかの傾向を示すもの。確率変数 $X, Y$ の平均をそれぞれ $\\mu_X, \\mu_Y$ としたとき、 $X, Y$ の共分散を\n",
    "\n",
    "$$\n",
    "\\sigma_{X Y} = \\mathrm{Cov} ( X , Y ) = \\mathrm{E} [ ( X - \\mu_X ) ( Y - \\mu_Y ) ]\n",
    "$$\n",
    "\n",
    "で定める。特に、自分自身との共分散 $\\mathrm{Cov} ( X , Y )$ は[分散](../glossary-ja-ha#分散) $\\mathrm{V} [ X ]$ に一致する。データ $\\{ ( X_1, Y_1 ), \\ldots, ( X_n, Y_n ) \\}$ について、 $\\{ X_i \\}, \\{ Y_i \\}$ の標本平均をそれぞれ $\\bar{X}, \\bar{Y}$ としたとき、このデータの標本共分散 (sample covariance) は\n",
    "\n",
    "$$\n",
    "\\frac{1}{n} \\sum_{i=1}^n ( X_i - \\bar{X} ) ( Y_i - \\bar{Y} )\n",
    "$$\n",
    "\n",
    "を指すこともあれば、 $n$ の代わりに $n - 1$ で除した\n",
    "\n",
    "$$\n",
    "\\frac{1}{n - 1} \\sum_{i=1}^n ( X_i - \\bar{X} ) ( Y_i - \\bar{Y} )\n",
    "$$\n",
    "\n",
    "\n",
    "を指すこともある。 $( X_i, Y_i )$ の組が独立同分布のとき、後者の標本分散は元の分布の共分散の不偏推定量になっており、これゆえ特に不偏（標本）共分散とも呼ばれる。"
   ]
  },
  {
   "cell_type": "markdown",
   "metadata": {},
   "source": [
    "## く"
   ]
  },
  {
   "cell_type": "markdown",
   "metadata": {},
   "source": [
    "## け"
   ]
  },
  {
   "cell_type": "markdown",
   "metadata": {},
   "source": [
    "## こ"
   ]
  }
 ],
 "metadata": {
  "kernelspec": {
   "display_name": "Python 3",
   "language": "python",
   "name": "python3"
  },
  "language_info": {
   "codemirror_mode": {
    "name": "ipython",
    "version": 3
   },
   "file_extension": ".py",
   "mimetype": "text/x-python",
   "name": "python",
   "nbconvert_exporter": "python",
   "pygments_lexer": "ipython3",
   "version": "3.8.3"
  }
 },
 "nbformat": 4,
 "nbformat_minor": 4
}
